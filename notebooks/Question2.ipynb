{
  "nbformat": 4,
  "nbformat_minor": 0,
  "metadata": {
    "colab": {
      "provenance": []
    },
    "kernelspec": {
      "name": "python3",
      "display_name": "Python 3"
    },
    "language_info": {
      "name": "python"
    }
  },
  "cells": [
    {
      "cell_type": "markdown",
      "source": [
        "import libraries"
      ],
      "metadata": {
        "id": "_S5wYu3zkemK"
      }
    },
    {
      "cell_type": "code",
      "execution_count": null,
      "metadata": {
        "id": "c_7WsvbckdrH"
      },
      "outputs": [],
      "source": [
        "import numpy as np"
      ]
    },
    {
      "cell_type": "markdown",
      "source": [
        "Generate random output from layer 3 (3 Sigmoid neurons)"
      ],
      "metadata": {
        "id": "YYcc3xMskr6b"
      }
    },
    {
      "cell_type": "code",
      "source": [
        "output_layer_3 = np.random.rand(3)"
      ],
      "metadata": {
        "id": "TYdnQu2ik7bg"
      },
      "execution_count": null,
      "outputs": []
    },
    {
      "cell_type": "markdown",
      "source": [
        "Initialize weights for layer 4 (7 ReLU neurons) using He Normal method"
      ],
      "metadata": {
        "id": "GPdpgsjWlDYA"
      }
    },
    {
      "cell_type": "code",
      "source": [
        "weights_layer_4 = np.random.normal(size=(3, 7), scale=np.sqrt(2/3))"
      ],
      "metadata": {
        "id": "sVWsZcCMlHsg"
      },
      "execution_count": null,
      "outputs": []
    },
    {
      "cell_type": "markdown",
      "source": [
        "Initialize biases for layer 4 with all 0s"
      ],
      "metadata": {
        "id": "RogGKsFblLBw"
      }
    },
    {
      "cell_type": "code",
      "source": [
        "biases_layer_4 = np.zeros(7)"
      ],
      "metadata": {
        "id": "tGIN03wPlPpo"
      },
      "execution_count": null,
      "outputs": []
    },
    {
      "cell_type": "markdown",
      "source": [
        "Calculate the output of layer 4 using ReLU activation function"
      ],
      "metadata": {
        "id": "CCEl9mOtlTSw"
      }
    },
    {
      "cell_type": "code",
      "source": [
        "output_layer_4 = np.maximum(np.dot(output_layer_3, weights_layer_4) + biases_layer_4, 0)\n",
        "\n",
        "print(\"Output of Layer 4:\",output_layer_4)"
      ],
      "metadata": {
        "id": "fNK1SvFNlX84"
      },
      "execution_count": null,
      "outputs": []
    }
  ]
}