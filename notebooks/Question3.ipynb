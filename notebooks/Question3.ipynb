{
  "nbformat": 4,
  "nbformat_minor": 0,
  "metadata": {
    "colab": {
      "provenance": []
    },
    "kernelspec": {
      "name": "python3",
      "display_name": "Python 3"
    },
    "language_info": {
      "name": "python"
    }
  },
  "cells": [
    {
      "cell_type": "markdown",
      "source": [
        "Import libraries"
      ],
      "metadata": {
        "id": "xJFhnZRrnPmi"
      }
    },
    {
      "cell_type": "code",
      "source": [
        "from keras.layers import Input, Flatten, Dense, Dropout, AveragePooling2D\n",
        "from keras.layers import Convolution2D, MaxPooling2D, Activation, concatenate\n",
        "from keras.models import Model, Sequential"
      ],
      "metadata": {
        "id": "hYe_CcVtnX54"
      },
      "execution_count": null,
      "outputs": []
    },
    {
      "cell_type": "markdown",
      "source": [
        "Create the input layer"
      ],
      "metadata": {
        "id": "kNa2xNAync0Q"
      }
    },
    {
      "cell_type": "code",
      "source": [
        "input_layer = Input(shape=(8, 8, 2048))"
      ],
      "metadata": {
        "id": "mm5VFEjangMR"
      },
      "execution_count": null,
      "outputs": []
    },
    {
      "cell_type": "markdown",
      "source": [
        "Create the first 1x1 convolutional layer"
      ],
      "metadata": {
        "id": "3O3Rt2wLnjWQ"
      }
    },
    {
      "cell_type": "code",
      "source": [
        "layer1 = Convolution2D(1024, (1, 1), padding='same', activation='relu')(input_layer)\n",
        "layer1 = Dropout(0.3)(layer1)"
      ],
      "metadata": {
        "id": "amV1ZZTJnl7C"
      },
      "execution_count": null,
      "outputs": []
    },
    {
      "cell_type": "markdown",
      "source": [
        "Create the second 1x1 convolutional layer"
      ],
      "metadata": {
        "id": "erFV2LlYnqaH"
      }
    },
    {
      "cell_type": "code",
      "source": [
        "layer2 = Convolution2D(512, (1, 1), padding='same', activation='relu')(layer1)\n",
        "layer2 = Dropout(0.3)(layer2)"
      ],
      "metadata": {
        "id": "8ru22XTwnvGP"
      },
      "execution_count": null,
      "outputs": []
    },
    {
      "cell_type": "markdown",
      "source": [
        "Create the third 1x1 convolutional layer"
      ],
      "metadata": {
        "id": "kbFGYpjxn0kw"
      }
    },
    {
      "cell_type": "code",
      "source": [
        "layer3 = Convolution2D(512, (1, 1), padding='same', activation='relu')(layer2)\n",
        "layer3 = Dropout(0.3)(layer3)"
      ],
      "metadata": {
        "id": "8zjiAnOXn4F4"
      },
      "execution_count": null,
      "outputs": []
    },
    {
      "cell_type": "markdown",
      "source": [
        "Create the average pooling layer"
      ],
      "metadata": {
        "id": "Um593o0on8eo"
      }
    },
    {
      "cell_type": "code",
      "source": [
        "layer4 = AveragePooling2D(pool_size=(8, 8), strides=(1, 1), padding='valid')(layer3)"
      ],
      "metadata": {
        "id": "pHKYbBQRoBHn"
      },
      "execution_count": null,
      "outputs": []
    },
    {
      "cell_type": "markdown",
      "source": [
        "Flatten the output"
      ],
      "metadata": {
        "id": "4Zm8d-XdoJ4H"
      }
    },
    {
      "cell_type": "code",
      "source": [
        "layer5 = Flatten()(layer4)"
      ],
      "metadata": {
        "id": "N_Ei1oGhoK1v"
      },
      "execution_count": null,
      "outputs": []
    },
    {
      "cell_type": "markdown",
      "source": [
        "Create the final dense layer"
      ],
      "metadata": {
        "id": "AE_7nPyOoO6Z"
      }
    },
    {
      "cell_type": "code",
      "source": [
        "output_layer = Dense(1000, activation='softmax')(layer5)"
      ],
      "metadata": {
        "id": "-4tLl1R0oSio"
      },
      "execution_count": null,
      "outputs": []
    },
    {
      "cell_type": "markdown",
      "source": [
        "Create the model"
      ],
      "metadata": {
        "id": "3MgLDUP1oWLv"
      }
    },
    {
      "cell_type": "code",
      "source": [
        "model = Model(inputs=input_layer, outputs=output_layer)"
      ],
      "metadata": {
        "id": "HluEegtJobe_"
      },
      "execution_count": null,
      "outputs": []
    },
    {
      "cell_type": "markdown",
      "source": [
        "Print the model summary"
      ],
      "metadata": {
        "id": "l8_Pe0R1oe-g"
      }
    },
    {
      "cell_type": "code",
      "source": [
        "model.summary()"
      ],
      "metadata": {
        "id": "OiHFG4Q-ohrH"
      },
      "execution_count": null,
      "outputs": []
    }
  ]
}