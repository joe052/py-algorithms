{
  "cells": [
    {
      "attachments": {},
      "cell_type": "markdown",
      "metadata": {
        "id": "xJFhnZRrnPmi"
      },
      "source": [
        "Refer to the slides and Aurélien Géron book (page-469) and using Keras/TensorFlow prepare a Sequential model for the last 4 layers of GoogLeNet (after inception module 5b) and print its summary. Ensure that the summary must show all the parameters involved in these layers (if there are any). Assume there are no weights associated in the pooling layers"
      ]
    },
    {
      "attachments": {},
      "cell_type": "markdown",
      "metadata": {},
      "source": [
        "Import libraries"
      ]
    },
    {
      "cell_type": "code",
      "execution_count": null,
      "metadata": {
        "id": "hYe_CcVtnX54"
      },
      "outputs": [],
      "source": [
        "from keras.layers import Input, Flatten, Dense, Dropout, AveragePooling2D\n",
        "from keras.layers import Convolution2D, MaxPooling2D, Activation, concatenate\n",
        "from keras.models import Model, Sequential"
      ]
    },
    {
      "cell_type": "markdown",
      "metadata": {
        "id": "kNa2xNAync0Q"
      },
      "source": [
        "Create the input layer"
      ]
    },
    {
      "cell_type": "code",
      "execution_count": null,
      "metadata": {
        "id": "mm5VFEjangMR"
      },
      "outputs": [],
      "source": [
        "input_layer = Input(shape=(8, 8, 2048))"
      ]
    },
    {
      "cell_type": "markdown",
      "metadata": {
        "id": "3O3Rt2wLnjWQ"
      },
      "source": [
        "Create the first 1x1 convolutional layer"
      ]
    },
    {
      "cell_type": "code",
      "execution_count": null,
      "metadata": {
        "id": "amV1ZZTJnl7C"
      },
      "outputs": [],
      "source": [
        "layer1 = Convolution2D(1024, (1, 1), padding='same', activation='relu')(input_layer)\n",
        "layer1 = Dropout(0.3)(layer1)"
      ]
    },
    {
      "cell_type": "markdown",
      "metadata": {
        "id": "erFV2LlYnqaH"
      },
      "source": [
        "Create the second 1x1 convolutional layer"
      ]
    },
    {
      "cell_type": "code",
      "execution_count": null,
      "metadata": {
        "id": "8ru22XTwnvGP"
      },
      "outputs": [],
      "source": [
        "layer2 = Convolution2D(512, (1, 1), padding='same', activation='relu')(layer1)\n",
        "layer2 = Dropout(0.3)(layer2)"
      ]
    },
    {
      "cell_type": "markdown",
      "metadata": {
        "id": "kbFGYpjxn0kw"
      },
      "source": [
        "Create the third 1x1 convolutional layer"
      ]
    },
    {
      "cell_type": "code",
      "execution_count": null,
      "metadata": {
        "id": "8zjiAnOXn4F4"
      },
      "outputs": [],
      "source": [
        "layer3 = Convolution2D(512, (1, 1), padding='same', activation='relu')(layer2)\n",
        "layer3 = Dropout(0.3)(layer3)"
      ]
    },
    {
      "cell_type": "markdown",
      "metadata": {
        "id": "Um593o0on8eo"
      },
      "source": [
        "Create the average pooling layer"
      ]
    },
    {
      "cell_type": "code",
      "execution_count": null,
      "metadata": {
        "id": "pHKYbBQRoBHn"
      },
      "outputs": [],
      "source": [
        "layer4 = AveragePooling2D(pool_size=(8, 8), strides=(1, 1), padding='valid')(layer3)"
      ]
    },
    {
      "cell_type": "markdown",
      "metadata": {
        "id": "4Zm8d-XdoJ4H"
      },
      "source": [
        "Flatten the output"
      ]
    },
    {
      "cell_type": "code",
      "execution_count": null,
      "metadata": {
        "id": "N_Ei1oGhoK1v"
      },
      "outputs": [],
      "source": [
        "layer5 = Flatten()(layer4)"
      ]
    },
    {
      "cell_type": "markdown",
      "metadata": {
        "id": "AE_7nPyOoO6Z"
      },
      "source": [
        "Create the final dense layer"
      ]
    },
    {
      "cell_type": "code",
      "execution_count": null,
      "metadata": {
        "id": "-4tLl1R0oSio"
      },
      "outputs": [],
      "source": [
        "output_layer = Dense(1000, activation='softmax')(layer5)"
      ]
    },
    {
      "cell_type": "markdown",
      "metadata": {
        "id": "3MgLDUP1oWLv"
      },
      "source": [
        "Create the model"
      ]
    },
    {
      "cell_type": "code",
      "execution_count": null,
      "metadata": {
        "id": "HluEegtJobe_"
      },
      "outputs": [],
      "source": [
        "model = Model(inputs=input_layer, outputs=output_layer)"
      ]
    },
    {
      "cell_type": "markdown",
      "metadata": {
        "id": "l8_Pe0R1oe-g"
      },
      "source": [
        "Print the model summary"
      ]
    },
    {
      "cell_type": "code",
      "execution_count": null,
      "metadata": {
        "id": "OiHFG4Q-ohrH"
      },
      "outputs": [],
      "source": [
        "model.summary()"
      ]
    }
  ],
  "metadata": {
    "colab": {
      "provenance": []
    },
    "kernelspec": {
      "display_name": "Python 3",
      "name": "python3"
    },
    "language_info": {
      "name": "python"
    }
  },
  "nbformat": 4,
  "nbformat_minor": 0
}
