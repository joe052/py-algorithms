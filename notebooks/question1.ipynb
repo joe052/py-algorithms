{
  "cells": [
    {
      "cell_type": "markdown",
      "metadata": {
        "id": "vz9nTgKKffwa"
      },
      "source": [
        "import required libraries"
      ]
    },
    {
      "cell_type": "code",
      "execution_count": null,
      "metadata": {
        "id": "-HwcGdGcfmVT"
      },
      "outputs": [],
      "source": [
        "import numpy as np\n",
        "import matplotlib.pyplot as plt"
      ]
    },
    {
      "cell_type": "markdown",
      "metadata": {
        "id": "lWwDembrfn0j"
      },
      "source": [
        "Input: Output of the deep learning classifier before the Softmax layer"
      ]
    },
    {
      "cell_type": "code",
      "execution_count": null,
      "metadata": {
        "id": "Ehh2NIekghrb"
      },
      "outputs": [],
      "source": [
        "output = np.array([0.25, 1.25, 0.50, 0.75, 1.75])"
      ]
    },
    {
      "cell_type": "markdown",
      "metadata": {
        "id": "IDPhiu2YgnnQ"
      },
      "source": [
        "Apply the Softmax function"
      ]
    },
    {
      "cell_type": "code",
      "execution_count": null,
      "metadata": {
        "id": "4bOrvQGRglhh"
      },
      "outputs": [],
      "source": [
        "softmax_output = np.exp(output) / np.sum(np.exp(output))"
      ]
    },
    {
      "cell_type": "markdown",
      "metadata": {
        "id": "uxA4hFOPgyLw"
      },
      "source": [
        "Create a list of class labels"
      ]
    },
    {
      "cell_type": "code",
      "execution_count": null,
      "metadata": {
        "id": "dthdcWlOg28w"
      },
      "outputs": [],
      "source": [
        "classes = ['Rat', 'Cat', 'Tiger', 'Snake', 'Monkey']"
      ]
    },
    {
      "cell_type": "markdown",
      "metadata": {
        "id": "CVjaqh36g6FB"
      },
      "source": [
        "Plot the pie chart"
      ]
    },
    {
      "cell_type": "code",
      "execution_count": null,
      "metadata": {
        "id": "TojVtCmWg98Q"
      },
      "outputs": [],
      "source": [
        "plt.pie(softmax_output, labels=classes, autopct='%.2f%%')\n",
        "plt.legend(title = \"Classes\", bbox_to_anchor=(1,0), loc=\"lower right\", bbox_transform=plt.gcf().transFigure)\n",
        "plt.show()"
      ]
    }
  ],
  "metadata": {
    "colab": {
      "provenance": []
    },
    "kernelspec": {
      "display_name": "Python 3",
      "language": "python",
      "name": "python3"
    },
    "language_info": {
      "name": "python",
      "version": "3.11.0 (main, Oct 24 2022, 18:26:48) [MSC v.1933 64 bit (AMD64)]"
    },
    "vscode": {
      "interpreter": {
        "hash": "de47f5c92c0ee6f12a59a5613ac5feff6aab19ddff207ba0b3964cced08c4ccc"
      }
    }
  },
  "nbformat": 4,
  "nbformat_minor": 0
}
