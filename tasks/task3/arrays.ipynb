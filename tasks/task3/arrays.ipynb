{
 "cells": [
  {
   "cell_type": "code",
   "execution_count": 1,
   "metadata": {},
   "outputs": [],
   "source": [
    "import numpy as np"
   ]
  },
  {
   "cell_type": "code",
   "execution_count": 2,
   "metadata": {},
   "outputs": [
    {
     "name": "stdout",
     "output_type": "stream",
     "text": [
      "[38.2 35.1  nan 29.5 25.6  nan  nan 19.2 32.4  nan 29.5  nan]\n"
     ]
    }
   ],
   "source": [
    "arr_6 = np.array([38.2,35.1,np.nan,29.5,25.6,np.nan,np.nan,19.2,32.4,np.nan,29.5,np.nan])\n",
    "print(arr_6)"
   ]
  },
  {
   "cell_type": "code",
   "execution_count": 3,
   "metadata": {},
   "outputs": [
    {
     "name": "stdout",
     "output_type": "stream",
     "text": [
      "[38.2 35.1 15.  29.5 25.6 15.  15.  19.2 32.4 15.  29.5 15. ]\n"
     ]
    }
   ],
   "source": [
    "# arr_6[arr_6 == nan] = 15.\n",
    "arr_6[np.isnan(arr_6)]= 15.\n",
    "print(arr_6)"
   ]
  },
  {
   "cell_type": "code",
   "execution_count": 4,
   "metadata": {},
   "outputs": [
    {
     "name": "stdout",
     "output_type": "stream",
     "text": [
      "[[38.2 35.1 15.  29.5]\n",
      " [25.6 15.  15.  19.2]\n",
      " [32.4 15.  29.5 15. ]]\n"
     ]
    }
   ],
   "source": [
    "new_arr = arr_6.reshape(3,4)\n",
    "print(new_arr)"
   ]
  }
 ],
 "metadata": {
  "kernelspec": {
   "display_name": "Python 3.9.13 ('base')",
   "language": "python",
   "name": "python3"
  },
  "language_info": {
   "codemirror_mode": {
    "name": "ipython",
    "version": 3
   },
   "file_extension": ".py",
   "mimetype": "text/x-python",
   "name": "python",
   "nbconvert_exporter": "python",
   "pygments_lexer": "ipython3",
   "version": "3.9.13"
  },
  "orig_nbformat": 4,
  "vscode": {
   "interpreter": {
    "hash": "a077222d77dfe082b8f1dd562ad70e458ac2ab76993a0b248ab0476e32e9e8dd"
   }
  }
 },
 "nbformat": 4,
 "nbformat_minor": 2
}
